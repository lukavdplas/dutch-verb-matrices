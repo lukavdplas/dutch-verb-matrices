{
 "cells": [
  {
   "cell_type": "markdown",
   "metadata": {},
   "source": [
    "Imports holistic vectors and argument vectors for verbs and performs ridge regression to train verb matrices.\n",
    "\n",
    "This file is intended to tune parameters and evaluate training. Matrices are not exported. There is also the option to use a subset of all verbs, and data is split into 80% train and 20% test data."
   ]
  },
  {
   "cell_type": "code",
   "execution_count": 50,
   "metadata": {},
   "outputs": [],
   "source": [
    "import numpy as np\n",
    "from reach import Reach\n",
    "import sklearn\n",
    "import sklearn.linear_model\n",
    "from numpy import linalg as la\n",
    "import math\n",
    "import matplotlib.pyplot as plt\n",
    "from tqdm import tqdm_notebook as tqdm\n",
    "import sklearn.preprocessing\n",
    "\n",
    "np.random.seed(0)\n",
    "#pathnames\n",
    "indexpath = './verbtrainingindex_withweights.npy'\n",
    "holmatrixpath = './cooccurrence/svd/newmatrix.npy'\n",
    "embeddingspath = './tulkens-embeddings/160/sonar-160.txt'\n",
    "figpath = './figures'\n",
    "\n"
   ]
  },
  {
   "cell_type": "code",
   "execution_count": null,
   "metadata": {},
   "outputs": [],
   "source": [
    "#import data\n",
    "index = np.load(indexpath)\n",
    "holmatrix = np.load(holmatrixpath)\n",
    "arg_data = Reach(embeddingspath, header=True)"
   ]
  },
  {
   "cell_type": "code",
   "execution_count": 116,
   "metadata": {},
   "outputs": [],
   "source": [
    "#parameters\n",
    "n_dim = 160\n",
    "s_dim = 200\n",
    "alpha_values = []\n",
    "#alpha_values += [0.01, 0.5, 0.1, 0.5, 1]\n",
    "#alpha_values += [5, 10, 25, 50, 75, 100, 500]\n",
    "#alpha_values += [500, 1000, 5000]\n",
    "#alpha_values += [10000, 50000]\n",
    "alpha_values += [0.005]\n",
    "min_sample_size = 20\n",
    "variance_control = True\n",
    "mean_std = 0.08"
   ]
  },
  {
   "cell_type": "code",
   "execution_count": 60,
   "metadata": {},
   "outputs": [],
   "source": [
    "#create subset of complete verb index for testing\n",
    "selection = np.random.choice(range(2,len(index)), size=240, replace=False)\n",
    "miniindex = np.array(['', [0, '']], object)\n",
    "for i in selection:\n",
    "    miniindex = np.vstack([miniindex, index[i]])"
   ]
  },
  {
   "cell_type": "code",
   "execution_count": 61,
   "metadata": {
    "scrolled": true
   },
   "outputs": [
    {
     "name": "stdout",
     "output_type": "stream",
     "text": [
      "241 total, 218 counted\n"
     ]
    }
   ],
   "source": [
    "#get actual sample size, with N > 500\n",
    "t = 0\n",
    "for row in miniindex:\n",
    "    if len(row[0]) >= 1:\n",
    "        samples = row[1]\n",
    "        samplesize = samples.shape[0]\n",
    "        if samplesize > min_sample_size:\n",
    "            t += 1\n",
    "\n",
    "print(len(miniindex), 'total,', t, 'counted')"
   ]
  },
  {
   "cell_type": "code",
   "execution_count": 19,
   "metadata": {},
   "outputs": [
    {
     "data": {
      "application/vnd.jupyter.widget-view+json": {
       "model_id": "71001957234f4de5955aa11be9722ef1",
       "version_major": 2,
       "version_minor": 0
      },
      "text/plain": [
       "HBox(children=(IntProgress(value=0, max=579), HTML(value='')))"
      ]
     },
     "metadata": {},
     "output_type": "display_data"
    },
    {
     "name": "stdout",
     "output_type": "stream",
     "text": [
      "\n",
      "0.0787885\n",
      "0.09999994\n"
     ]
    }
   ],
   "source": [
    "#get indication of normal variance within arguments\n",
    "stds = list()\n",
    "scaled_stds = list()\n",
    "\n",
    "#loop through verbs\n",
    "for row in tqdm(index):\n",
    "    if len(row[0]) >= 1:\n",
    "        verb = row[0]\n",
    "        samples = row[1]\n",
    "\n",
    "        # randomly select train an test data\n",
    "        samplesize = samples.shape[0]\n",
    "        if samplesize > min_sample_size:            \n",
    "            for i in range(samplesize):\n",
    "                sample = samples[i]\n",
    "                # samples are of form holmatrixrow, argstring, weight\n",
    "                if sample[1] != '':\n",
    "                    # import of vectors\n",
    "                    arg_v = arg_data.vector(sample[1])\n",
    "                    \n",
    "                    scaler = sklearn.preprocessing.StandardScaler()\n",
    "                    scaled_arg_v = scaler.fit_transform(arg_v[:, np.newaxis])\n",
    "                    scaled_arg_v = np.squeeze(scaled_arg_v)\n",
    "                    scaled_arg_v = 0.1 * scaled_arg_v\n",
    "\n",
    "                    #get stds\n",
    "                    std = np.std(arg_v)\n",
    "                    scaled_std = np.std(scaled_arg_v)\n",
    "                    stds.append(std)\n",
    "                    scaled_stds.append(scaled_std)\n",
    "\n",
    "print(np.mean(stds))\n",
    "print(np.mean(scaled_stds))\n"
   ]
  },
  {
   "cell_type": "code",
   "execution_count": 106,
   "metadata": {},
   "outputs": [],
   "source": [
    "#reset evaluation record\n",
    "evals = dict()"
   ]
  },
  {
   "cell_type": "code",
   "execution_count": 117,
   "metadata": {},
   "outputs": [
    {
     "data": {
      "application/vnd.jupyter.widget-view+json": {
       "model_id": "d11499a24b8347389db71d5ae13e498b",
       "version_major": 2,
       "version_minor": 0
      },
      "text/plain": [
       "HBox(children=(IntProgress(value=0, max=1), HTML(value='')))"
      ]
     },
     "metadata": {},
     "output_type": "display_data"
    },
    {
     "data": {
      "application/vnd.jupyter.widget-view+json": {
       "model_id": "ecdad8dc138c424dbc05a6fc7ad32ebd",
       "version_major": 2,
       "version_minor": 0
      },
      "text/plain": [
       "HBox(children=(IntProgress(value=0, max=241), HTML(value='')))"
      ]
     },
     "metadata": {},
     "output_type": "display_data"
    }
   ],
   "source": [
    "for alpha_value in tqdm(alpha_values):\n",
    "    #for evaluation summary\n",
    "    verbs_overall = []\n",
    "    sizes_overall = []\n",
    "    R2s_overall_av = []\n",
    "    R2s_overall_med = []\n",
    "    R2s_train_overall_av = []\n",
    "    R2s_train_overall_med = []\n",
    "    eval_train = True # whether you want to evaluate on training data as well as test data\n",
    "\n",
    "    #loop through verbs\n",
    "    for row in tqdm(miniindex):\n",
    "        if len(row[0]) >= 1:\n",
    "            verb = row[0]\n",
    "            samples = row[1]\n",
    "            #containers for train and test data\n",
    "            hol_vs = {'train': np.zeros((1, s_dim)), 'test': np.zeros((1, s_dim))}\n",
    "            arg_vs = {'train': np.zeros((1, n_dim)), 'test': np.zeros((1, n_dim))}\n",
    "            weights = {'train': np.array([0.0]), 'test': np.array([0.0])}\n",
    "\n",
    "            # randomly select train an test data\n",
    "            samplesize = samples.shape[0]\n",
    "            if samplesize > min_sample_size:            \n",
    "                trainindices = sorted(list(np.random.choice(range(samplesize), size=int(0.8*samplesize), replace=False)))\n",
    "\n",
    "                # load vectors into train and test collections\n",
    "                for i in range(samplesize):\n",
    "                    dest = ''\n",
    "                    if len(trainindices) > 0 and trainindices[0] == i:\n",
    "                        dest = 'train'\n",
    "                        trainindices = trainindices[1:]\n",
    "                    else:\n",
    "                        dest = 'test'\n",
    "                    sample = samples[i]\n",
    "                    # samples are of form holmatrixrow, argstring, weight\n",
    "                    if sample[1] != '':\n",
    "                        # import of vectors\n",
    "                        hol_v = holmatrix[int(sample[0])]\n",
    "                        arg_v = arg_data.vector(sample[1])\n",
    "                        weight = float(sample[2])\n",
    "                        \n",
    "                        #apply standard scaling\n",
    "                        scaler = sklearn.preprocessing.StandardScaler()\n",
    "                        scaler.set_params(with_std=variance_control)\n",
    "                        arg_v = scaler.fit_transform(arg_v[:, np.newaxis])\n",
    "                        arg_v = np.squeeze(arg_v)\n",
    "                        if variance_control:\n",
    "                            arg_v = mean_std * arg_v #to make sure the effect of variance control is not an effect of scale\n",
    "                        \n",
    "                        #store holistic vector\n",
    "                        if np.array_equal(hol_vs[dest], np.zeros((1, s_dim))):\n",
    "                            hol_vs[dest] = np.array([hol_v])\n",
    "                        else:\n",
    "                            hol_vs[dest] = np.vstack([hol_vs[dest], hol_v])\n",
    "                        #store argument vector\n",
    "                        if np.array_equal(arg_vs[dest], np.zeros((1, n_dim))):\n",
    "                            arg_vs[dest] = np.array([arg_v])\n",
    "                        else:\n",
    "                            arg_vs[dest] = np.vstack([arg_vs[dest], arg_v])\n",
    "                        #store weight\n",
    "                        if np.array_equal(weights[dest], np.array([0.0])):\n",
    "                            weights[dest] = np.array([weight])\n",
    "                        else:\n",
    "                            weights[dest] = np.hstack([weights[dest], np.array([weight])])                    \n",
    "\n",
    "                # train matrix\n",
    "                verb_m = np.zeros((n_dim, s_dim))\n",
    "                R2s = np.zeros(s_dim)\n",
    "                R2s_train = np.zeros(s_dim)\n",
    "                #train one column of the matrix\n",
    "                for i in range(s_dim): #s_dim\n",
    "                    model = sklearn.linear_model.Ridge(alpha=alpha_value, fit_intercept=False)\n",
    "                    model.fit(arg_vs['train'], hol_vs['train'][:, i, np.newaxis], sample_weight=weights['train'])\n",
    "                    verb_m[:, i] = model.coef_\n",
    "\n",
    "                    #evaluate matrix row\n",
    "                    estimated = model.predict(arg_vs['test'])\n",
    "                    real = hol_vs['test'][:,0]\n",
    "                    R2 = model.score(arg_vs['test'], hol_vs['test'][:, i, np.newaxis], sample_weight=weights['test'])\n",
    "                    R2s[i] = R2.copy()\n",
    "\n",
    "                    if eval_train:\n",
    "                        R2_train = model.score(arg_vs['train'], hol_vs['train'][:, i], sample_weight=weights['train'])\n",
    "    #                     R2s_train.append(R2_train)\n",
    "                        R2s_train[i] = R2_train.copy()\n",
    "\n",
    "                # evaluate entire matrix\n",
    "                verbs_overall.append(verb)\n",
    "                sizes_overall.append(samplesize)\n",
    "                R2s_overall_av.append(np.mean(R2s))\n",
    "                R2s_train_overall_av.append(np.mean(R2s_train))\n",
    "                R2s_overall_med.append(np.median(R2s))\n",
    "                R2s_train_overall_med.append(np.median(R2s_train))\n",
    "        \n",
    "    evals[alpha_value] = {'Med R2 (test)': np.median(R2s_overall_med), 'Med R2 (train)': np.median(R2s_train_overall_med), 'plotdata': {'sizes': sizes_overall.copy(), 'testeval': R2s_overall_med.copy(), 'traineval': R2s_train_overall_med.copy() } }"
   ]
  },
  {
   "cell_type": "code",
   "execution_count": 144,
   "metadata": {},
   "outputs": [],
   "source": [
    "#restore font settings because i fucked with them\n",
    "import matplotlib\n",
    "matplotlib.rcdefaults()"
   ]
  },
  {
   "cell_type": "code",
   "execution_count": 52,
   "metadata": {},
   "outputs": [
    {
     "data": {
      "image/png": "[encoded data removed]",
      "text/plain": [
       "<Figure size 432x288 with 1 Axes>"
      ]
     },
     "metadata": {
      "needs_background": "light"
     },
     "output_type": "display_data"
    }
   ],
   "source": [
    "alpha_compare = list()\n",
    "for a in sorted(evals.keys()):\n",
    "    data = evals[a]['plotdata']['testeval']\n",
    "    alpha_compare.append((a, min(data), np.percentile(data, 25), np.median(data), np.percentile(data, 75), max(data)))\n",
    "\n",
    "from matplotlib import rcParams\n",
    "rcParams['font.family'] = 'serif'\n",
    "rcParams['font.serif'] = ['Times New Roman', 'Times', 'Bitstream Vera Serif', 'Computer Modern Roman', 'New Century Schoolbook', 'Century Schoolbook L', 'Utopia', 'ITC Bookman', 'Bookman', 'Nimbus Roman No9 L', 'Palatino', 'Charter', 'DejaVu Serif', 'serif']\n",
    "\n",
    "plt.plot(\n",
    "        [i[0] for i in alpha_compare], [i[4] for i in alpha_compare], 'gray',\n",
    "        [i[0] for i in alpha_compare], [i[3] for i in alpha_compare], 'black',\n",
    "        [i[0] for i in alpha_compare], [i[2] for i in alpha_compare], 'gray')\n",
    "\n",
    "plt.plot([i[0] for i in alpha_compare], [i[5] for i in alpha_compare], 'black', \n",
    "         [i[0] for i in alpha_compare], [i[1] for i in alpha_compare], 'black', \n",
    "         linestyle='dotted')\n",
    "\n",
    "plt.fill_between([i[0] for i in alpha_compare], [i[4] for i in alpha_compare],[i[2] for i in alpha_compare], color='#D3D3D3')\n",
    "\n",
    "plt.semilogx()\n",
    "plt.ylim(bottom=-0.1)\n",
    "plt.axhline(color='k')\n",
    "plt.xlabel('alpha'); plt.ylabel('R2')\n",
    "#plt.title('Scores at different alpha values')\n",
    "\n",
    "plt.savefig(figpath+'/alpha.eps', transparent=True)"
   ]
  },
  {
   "cell_type": "code",
   "execution_count": 118,
   "metadata": {},
   "outputs": [],
   "source": [
    "#alpha value to look at in more detail\n",
    "eval_alpha = 0.005"
   ]
  },
  {
   "cell_type": "code",
   "execution_count": 119,
   "metadata": {},
   "outputs": [
    {
     "data": {
      "image/png": "[encoded data removed]",
      "text/plain": [
       "<Figure size 432x288 with 1 Axes>"
      ]
     },
     "metadata": {
      "needs_background": "light"
     },
     "output_type": "display_data"
    }
   ],
   "source": [
    "plt.plot(evals[eval_alpha]['plotdata']['sizes'], evals[eval_alpha]['plotdata']['traineval'], '+', color='gray')\n",
    "plt.plot(evals[eval_alpha]['plotdata']['sizes'], evals[eval_alpha]['plotdata']['testeval'], '.', color='black')\n",
    "\n",
    "plt.semilogx(); plt.axhline(color='k')\n",
    "#plt.ylim(bottom=-0.1)\n",
    "plt.xlabel('Sample size')\n",
    "plt.ylabel('R2 (median)')\n",
    "plt.legend(['train evaluation', 'test evaluation'])\n",
    "\n",
    "plt.savefig(figpath+'/evaluation_samplesize_alpha'+str(eval_alpha)+'_std'+str(variance_control)+'.eps', transparent=True)"
   ]
  }
 ],
 "metadata": {
  "kernelspec": {
   "display_name": "Python 3",
   "language": "python",
   "name": "python3"
  },
  "language_info": {
   "codemirror_mode": {
    "name": "ipython",
    "version": 3
   },
   "file_extension": ".py",
   "mimetype": "text/x-python",
   "name": "python",
   "nbconvert_exporter": "python",
   "pygments_lexer": "ipython3",
   "version": "3.6.6"
  }
 },
 "nbformat": 4,
 "nbformat_minor": 2
}
