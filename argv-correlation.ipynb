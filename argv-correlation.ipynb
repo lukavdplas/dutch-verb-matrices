{
 "cells": [
  {
   "cell_type": "markdown",
   "metadata": {},
   "source": [
    "Test correlation between argument vectors of each verb and compare to verb sample size."
   ]
  },
  {
   "cell_type": "code",
   "execution_count": 38,
   "metadata": {},
   "outputs": [],
   "source": [
    "import numpy as np\n",
    "from reach import Reach\n",
    "import sklearn\n",
    "import sklearn.preprocessing\n",
    "import scipy.stats as stats\n",
    "from tqdm import tqdm_notebook as tqdm\n",
    "import matplotlib.pyplot as plt\n",
    "from matplotlib import rcParams"
   ]
  },
  {
   "cell_type": "code",
   "execution_count": 3,
   "metadata": {},
   "outputs": [
    {
     "name": "stdout",
     "output_type": "stream",
     "text": [
      "importing data...\n",
      "Vocab: 626711, Dim: 160\n"
     ]
    }
   ],
   "source": [
    "#pathnames\n",
    "indexpath = './verbtrainingindex2.npy'\n",
    "embeddingspath = './tulkens-embeddings/160/sonar-160.txt'\n",
    "outputpath = './argv-variances'\n",
    "figpath = './figures'\n",
    "\n",
    "#import data\n",
    "index = np.load(indexpath)\n",
    "print('importing data...')\n",
    "arg_data = Reach(embeddingspath, header=True)"
   ]
  },
  {
   "cell_type": "code",
   "execution_count": 35,
   "metadata": {},
   "outputs": [
    {
     "name": "stdout",
     "output_type": "stream",
     "text": [
      "looping through verbs\n"
     ]
    },
    {
     "data": {
      "application/vnd.jupyter.widget-view+json": {
       "model_id": "4ce6cf13ec044d75b9771909a58f1316",
       "version_major": 2,
       "version_minor": 0
      },
      "text/plain": [
       "HBox(children=(IntProgress(value=0, max=579), HTML(value='')))"
      ]
     },
     "metadata": {},
     "output_type": "display_data"
    }
   ],
   "source": [
    "#output\n",
    "outfile = open(outputpath, 'w')\n",
    "outfile.write('verb\\tN\\tMean variance\\n')\n",
    "\n",
    "n_dim = 160\n",
    "summary = np.array([0, 0.0])\n",
    "\n",
    "#loop through verbs\n",
    "print('looping through verbs')\n",
    "for row in tqdm(index):\n",
    "    if len(row[0]) >= 1:\n",
    "        verb = row[0]\n",
    "        samples = row[1]\n",
    "\n",
    "        #container\n",
    "        arg_vs = np.zeros((1, n_dim))\n",
    "        samplesize = samples.shape[0]\n",
    "\n",
    "        # load vectors into train and test collections\n",
    "        for i in range(samplesize):\n",
    "            sample = samples[i]\n",
    "            # samples are of form holmatrixrow, argstring\n",
    "            if sample[1] != '':\n",
    "                # import vector\n",
    "                arg_v = arg_data.vector(sample[1])\n",
    "\n",
    "                #normalise vector\n",
    "                scaler = sklearn.preprocessing.StandardScaler()\n",
    "                arg_v = scaler.fit_transform(arg_v[:, np.newaxis])\n",
    "                arg_v = np.squeeze(arg_v)\n",
    "\n",
    "                #store argument vector\n",
    "                if np.array_equal(arg_vs, np.zeros((1, n_dim))):\n",
    "                    arg_vs = np.array([arg_v])\n",
    "                else:\n",
    "                    arg_vs = np.vstack([arg_vs, arg_v])\n",
    "        \n",
    "        #compute variances\n",
    "        variances = list()\n",
    "        for i in range(n_dim):\n",
    "            variances.append(np.var(arg_vs[:,i]))\n",
    "        outfile.write(verb+'\\t'+str(samplesize)+'\\t'+str(np.mean(variances)))\n",
    "        for v in variances:\n",
    "            outfile.write('\\t'+str(v))\n",
    "        outfile.write('\\n')\n",
    "\n",
    "        if np.array_equal(summary, np.zeros((1, 2))):\n",
    "            summary = np.array([[samplesize, np.mean(variances)]])\n",
    "        else:\n",
    "            summary = np.vstack([summary, [samplesize, np.mean(variances)]])\n",
    "\n",
    "outfile.close()\n"
   ]
  },
  {
   "cell_type": "code",
   "execution_count": 37,
   "metadata": {},
   "outputs": [
    {
     "name": "stdout",
     "output_type": "stream",
     "text": [
      "(0.3663121431221859, 9.18576394370607e-20)\n"
     ]
    }
   ],
   "source": [
    "sortedsummary = np.array(sorted(summary, key=lambda row: row[0]))\n",
    "\n",
    "summary_trimmed = sortedsummary[2:]  #take out a few outliers\n",
    "\n",
    "print(stats.pearsonr(summary_trimmed[:,0],summary_trimmed[:,1]))"
   ]
  },
  {
   "cell_type": "code",
   "execution_count": 53,
   "metadata": {},
   "outputs": [
    {
     "data": {
      "image/png": "[encoded data removed]",
      "text/plain": [
       "<Figure size 432x288 with 1 Axes>"
      ]
     },
     "metadata": {
      "needs_background": "light"
     },
     "output_type": "display_data"
    }
   ],
   "source": [
    "rcParams['font.family'] = 'serif'\n",
    "rcParams['font.serif'] = ['Times New Roman', 'Times', 'Bitstream Vera Serif', 'Computer Modern Roman', 'New Century Schoolbook', 'Century Schoolbook L', 'Utopia', 'ITC Bookman', 'Bookman', 'Nimbus Roman No9 L', 'Palatino', 'Charter', 'DejaVu Serif', 'serif']\n",
    "\n",
    "plt.plot(summary_trimmed[:,0], summary_trimmed[:,1], 'k.', markersize=1.5)\n",
    "plt.semilogx()\n",
    "plt.xlabel('Sample size')\n",
    "plt.ylabel('Variance')\n",
    "\n",
    "plt.savefig(figpath+'/argv_correlation.eps', transparent=True)"
   ]
  }
 ],
 "metadata": {
  "kernelspec": {
   "display_name": "Python 3",
   "language": "python",
   "name": "python3"
  },
  "language_info": {
   "codemirror_mode": {
    "name": "ipython",
    "version": 3
   },
   "file_extension": ".py",
   "mimetype": "text/x-python",
   "name": "python",
   "nbconvert_exporter": "python",
   "pygments_lexer": "ipython3",
   "version": "3.6.6"
  }
 },
 "nbformat": 4,
 "nbformat_minor": 2
}
